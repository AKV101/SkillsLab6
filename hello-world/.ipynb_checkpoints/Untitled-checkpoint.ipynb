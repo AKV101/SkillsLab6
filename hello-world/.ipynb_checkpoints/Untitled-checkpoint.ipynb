{
 "cells": [
  {
   "cell_type": "code",
   "execution_count": null,
   "metadata": {},
   "outputs": [],
   "source": [
    "max = int(input(\"Enter your maximum value: \"))\n",
    "min = int(input(\"Enter your minimum vlaue: \"))\n",
    "number = int(input(\"Enter number to test\"))\n",
    "\n",
    "if(number >= min and number <= min):\n",
    "    print(\"Your number does fall between this range!\")\n",
    "else:\n",
    "    print(\"Sorry your number does not fall between this range\")\n",
    "\n"
   ]
  },
  {
   "cell_type": "code",
   "execution_count": null,
   "metadata": {},
   "outputs": [],
   "source": []
  }
 ],
 "metadata": {
  "kernelspec": {
   "display_name": "Python 3",
   "language": "python",
   "name": "python3"
  },
  "language_info": {
   "codemirror_mode": {
    "name": "ipython",
    "version": 3
   },
   "file_extension": ".py",
   "mimetype": "text/x-python",
   "name": "python",
   "nbconvert_exporter": "python",
   "pygments_lexer": "ipython3",
   "version": "3.8.3"
  }
 },
 "nbformat": 4,
 "nbformat_minor": 4
}
